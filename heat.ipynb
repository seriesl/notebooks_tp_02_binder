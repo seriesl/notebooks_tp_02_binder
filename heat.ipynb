{
 "cells": [
  {
   "cell_type": "markdown",
   "metadata": {},
   "source": [
    "# Equation de la chaleur"
   ]
  },
  {
   "cell_type": "markdown",
   "metadata": {},
   "source": [
    "On considère l'équation de la chaleur dans le cas 1D :\n",
    "\n",
    "\n",
    "\\begin{equation}\n",
    "\\left\\{\n",
    "\\begin{aligned}\n",
    "& \\partial_t u(x,t) - D \\, \\partial_{xx} u(x,t) = 0 \\quad \\text{dans} \\; R\\\\\n",
    "& u(x,0)  =  \\delta_0(x),\n",
    "\\end{aligned}\n",
    "\\right.\n",
    "\\end{equation}\n",
    "\n",
    "où $\\delta_0(x)$ désigne la fonction delta de Dirac à l'origine en $x=0$.\n",
    "\n",
    "Avec des conditions aux limites de type Neumann homogène , la solution analytique de l'équation précedente s'écrit :\n",
    "\n",
    "\\begin{equation}\n",
    "u(x,t) = \\frac{1}{\\sqrt{\\pi D t}} \\exp(-\\frac{x^2}{\\sqrt{4Dt}})\n",
    "\\end{equation}"
   ]
  },
  {
   "cell_type": "code",
   "execution_count": null,
   "metadata": {},
   "outputs": [],
   "source": [
    "import numpy as np\n",
    "\n",
    "from scipy.integrate import solve_ivp\n",
    "\n",
    "from bokeh.io import  output_notebook, push_notebook, show\n",
    "from bokeh.plotting import figure\n",
    "from bokeh.layouts import column, row\n",
    "from bokeh.models import PrintfTickFormatter\n",
    "\n",
    "from mylib.heat_model import heat_model\n",
    "\n",
    "import mylib.integration as integration\n",
    "\n",
    "output_notebook(hide_banner=True)"
   ]
  },
  {
   "cell_type": "markdown",
   "metadata": {},
   "source": [
    "## Valeurs propres du Laplacien"
   ]
  },
  {
   "cell_type": "code",
   "execution_count": null,
   "metadata": {},
   "outputs": [],
   "source": [
    "def show_eigen_values(): \n",
    "    \n",
    "    xmin = -5.\n",
    "    xmax = 5.\n",
    "    # nb of points including boundary conditions\n",
    "    nxib = 2001\n",
    "    nx = nxib-2\n",
    "    dx = (xmax-xmin)/(nxib-1)\n",
    "    \n",
    "    discretized_eig = np.empty(nx)\n",
    "    laplacian_eig = np.empty(nx)\n",
    "    for i in range(nx):\n",
    "        discretized_eig[i] = -(4/(dx*dx)) * np.sin((i * np.pi)/(2*(nx+1))) * np.sin((i * np.pi )/(2*(nx+1)))\n",
    "        laplacian_eig[i] = -((np.pi*np.pi)*(i*i))/(4*((xmax-xmin)/2)*((xmax-xmin)/2))\n",
    "\n",
    "    fig_eig = figure(x_range=(0, nx+1), plot_height=450, plot_width=950)\n",
    "    fig_eig.x(np.linspace(0,nx-1,nx), discretized_eig, legend=\"eigen values of the discretized Laplacian\")\n",
    "    fig_eig.line(np.linspace(0,nx-1,nx), laplacian_eig, color=\"red\", line_width=2, legend=\"eigen values of the Laplacian\")\n",
    "    fig_eig.yaxis[0].formatter = PrintfTickFormatter(format=\"%f\")\n",
    "\n",
    "    show(fig_eig)\n",
    "    \n",
    "show_eigen_values()"
   ]
  },
  {
   "cell_type": "markdown",
   "metadata": {},
   "source": [
    "## Intégration avec Rock4 "
   ]
  },
  {
   "cell_type": "code",
   "execution_count": null,
   "metadata": {
    "hidePrompt": true
   },
   "outputs": [],
   "source": [
    "def plot_rock_sol():\n",
    "    \n",
    "    xmin = -5.\n",
    "    xmax = 5.\n",
    "    # nb of points including boundary conditions\n",
    "    nxib = 2001\n",
    "    nx = nxib-2\n",
    "    tini = 0.0001\n",
    "    tend = 0.01\n",
    "    d = 1.    \n",
    "            \n",
    "    hm = heat_model(d=d, xmin=xmin, xmax=xmax, nx=nx)\n",
    "    fcn_rock  = hm.fcn_rock\n",
    "    fcn_radau  = hm.fcn_radau\n",
    "    fcn_exact  = hm.fcn_exact\n",
    "                        \n",
    "    # initial solution    \n",
    "    yini = hm.fcn_exact(tini)\n",
    "    \n",
    "    # rock4 solution\n",
    "    sol = integration.rock4(tini, tend, yini, fcn_rock, rtol=1.e-6, atol=1.e-6)  \n",
    "    \n",
    "    # quasi-exact solution\n",
    "    sol_qexa = integration.radau5(tini, tend, yini, fcn_radau, njac=1, rtol=1.e-12, atol=1.e-12)\n",
    "    yerr_qexa = np.abs(sol_qexa.y - sol.y)\n",
    "    \n",
    "    # exact solution\n",
    "    yexa = fcn_exact(tend)\n",
    "    yerr_exa = np.abs(yexa - sol.y)\n",
    "    \n",
    "    dx = (xmax-xmin)/(nxib-1)\n",
    "    x = np.linspace(xmin+dx, xmax-dx, nx)\n",
    "    \n",
    "    fig_sol = figure(x_range=(xmin, xmax), plot_height=300, plot_width=950, title=\"Solution\")\n",
    "    fig_sol.x(x, sol.y)\n",
    "    \n",
    "    fig_err = figure(x_range=(xmin, xmax), plot_height=300, plot_width=950, title=\"Global error\")\n",
    "    fig_err.x(x, yerr_exa, legend=\"Fundamental solution as exact solution\", color=\"green\")  \n",
    "    fig_err.x(x, yerr_qexa,legend=\"Quasi exact solution (Radau5) as exact solution\", color=\"crimson\")\n",
    "\n",
    "    show(column(fig_sol, fig_err))\n",
    "    \n",
    "    print(f\"Number of function evaluations : {sol.nfev:d}\")\n",
    "    print(f\"Number of computed steps : {sol.nstep:d}\")\n",
    "    print(f\"Number of accepted steps : {sol.naccpt:d}\")\n",
    "    print(f\"Number of rejected steps : {sol.nrejct:d}\")\n",
    "    print(f\"Maximum number of stage used : {sol.nstage:d}\")\n",
    "    \n",
    "plot_rock_sol()"
   ]
  },
  {
   "cell_type": "markdown",
   "metadata": {},
   "source": [
    "## Intégration avec Radau5"
   ]
  },
  {
   "cell_type": "code",
   "execution_count": null,
   "metadata": {},
   "outputs": [],
   "source": [
    "def plot_radau_sol():\n",
    "\n",
    "    xmin = -5.\n",
    "    xmax = 5.\n",
    "    # nb of points including boundary conditions\n",
    "    nxib = 2001\n",
    "    nx = nxib-2\n",
    "    tini = 0.0001\n",
    "    tend = 0.01\n",
    "    d = 1.    \n",
    "            \n",
    "    hm = heat_model(d=d, xmin=xmin, xmax=xmax, nx=nx)\n",
    "    fcn_rock  = hm.fcn_rock\n",
    "    fcn_radau  = hm.fcn_radau\n",
    "    fcn_exact  = hm.fcn_exact\n",
    "                        \n",
    "    # initial solution    \n",
    "    yini = hm.fcn_exact(tini)\n",
    "    \n",
    "    # radau5 solution\n",
    "    tol = 1.e-6\n",
    "    sol = integration.radau5(tini, tend, yini, fcn_radau, njac=1, rtol=tol, atol=tol)\n",
    "    \n",
    "    # quasi-exact solution\n",
    "    sol_qexa = integration.radau5(tini, tend, yini, fcn_radau, njac=1, rtol=1.e-12, atol=1.e-12)\n",
    "    yerr_qexa = np.abs(sol_qexa.y - sol.y)\n",
    "    \n",
    "    # exact solution\n",
    "    yexa = fcn_exact(tend)\n",
    "    yerr_exa = np.abs(yexa - sol.y)\n",
    "    \n",
    "    dx = (xmax-xmin)/(nxib-1)\n",
    "    x = np.linspace(xmin+dx, xmax-dx, nx)\n",
    "\n",
    "    fig_sol = figure(x_range=(xmin, xmax), plot_height=300, plot_width=950, title=\"Solution\")\n",
    "    fig_sol.x(x, sol.y)\n",
    "    fig_err = figure(x_range=(xmin, xmax), plot_height=300, plot_width=950, title=\"Global error\")\n",
    "    fig_err.x(x, yerr_exa, legend=\"Fundamental solution as exact solution\", color=\"green\")  \n",
    "    fig_err.x(x, yerr_qexa,legend=\"Quasi exact solution (Radau5) as exact solution\", color=\"crimson\")\n",
    "    fig_err.legend.location = \"top_left\"\n",
    "\n",
    "    show(column(fig_sol, fig_err))\n",
    "    \n",
    "    print(f\"Number of function evaluations : {sol.nfev:d}\")\n",
    "    print(f\"Number of jacobian evaluations : {sol.njev:d}\")\n",
    "    print(f\"Number of computed steps : {sol.nstep:d}\")\n",
    "    print(f\"Number of accepted steps : {sol.naccpt:d}\")\n",
    "    print(f\"Number of rejected steps : {sol.nrejct:d}\")\n",
    "    print(f\"Number of LU decompositions : {sol.ndec:d}\")\n",
    "    print(f\"Number of forward-backward substitutions : {sol.nsol:d}\")\n",
    "\n",
    "    \n",
    "plot_radau_sol()"
   ]
  }
 ],
 "metadata": {
  "kernelspec": {
   "display_name": "Python 3",
   "language": "python",
   "name": "python3"
  },
  "language_info": {
   "codemirror_mode": {
    "name": "ipython",
    "version": 3
   },
   "file_extension": ".py",
   "mimetype": "text/x-python",
   "name": "python",
   "nbconvert_exporter": "python",
   "pygments_lexer": "ipython3",
   "version": "3.6.4"
  }
 },
 "nbformat": 4,
 "nbformat_minor": 2
}
